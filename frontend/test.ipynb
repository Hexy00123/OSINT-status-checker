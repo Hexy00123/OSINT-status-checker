{
 "cells": [
  {
   "metadata": {},
   "cell_type": "markdown",
   "source": "",
   "id": "ebc8149ca399617b"
  },
  {
   "metadata": {
    "ExecuteTime": {
     "end_time": "2024-07-04T00:10:55.283752Z",
     "start_time": "2024-07-04T00:10:55.281574Z"
    }
   },
   "cell_type": "code",
   "source": [
    "from requests import get, post\n",
    "import datetime\n",
    "\n",
    "URL = 'http://158.160.101.116:8000'"
   ],
   "id": "58a29e10ad3b6d55",
   "outputs": [],
   "execution_count": 12
  },
  {
   "metadata": {
    "ExecuteTime": {
     "end_time": "2024-07-04T00:10:59.927003Z",
     "start_time": "2024-07-04T00:10:59.668346Z"
    }
   },
   "cell_type": "code",
   "source": [
    "data = get(URL + \"/status\").json()\n",
    "print(len(data))"
   ],
   "id": "3b00315d49308ea4",
   "outputs": [
    {
     "name": "stdout",
     "output_type": "stream",
     "text": [
      "2436\n"
     ]
    }
   ],
   "execution_count": 13
  },
  {
   "metadata": {
    "ExecuteTime": {
     "end_time": "2024-07-04T00:11:01.919678Z",
     "start_time": "2024-07-04T00:11:01.913500Z"
    }
   },
   "cell_type": "code",
   "source": "data[:10]",
   "id": "8655bc100e257f21",
   "outputs": [
    {
     "data": {
      "text/plain": [
       "[{'_id': '6685e0f2a0284e2affed1ef8',\n",
       "  'ts': '2024-07-03T23:36:53.346000',\n",
       "  'username': 'Kypban_M',\n",
       "  'is_online': False},\n",
       " {'_id': '6685e0f2a0284e2affed1ef9',\n",
       "  'ts': '2024-07-03T23:36:54.084000',\n",
       "  'username': 'Nika_Teen',\n",
       "  'is_online': False},\n",
       " {'_id': '6685e0f2a0284e2affed1efa',\n",
       "  'ts': '2024-07-03T23:36:54.836000',\n",
       "  'username': 'hedgefo9',\n",
       "  'is_online': False},\n",
       " {'_id': '6685e0f2a0284e2affed1efb',\n",
       "  'ts': '2024-07-03T23:36:55.569000',\n",
       "  'username': 'a_rymsh',\n",
       "  'is_online': False},\n",
       " {'_id': '6685e0f2a0284e2affed1efc',\n",
       "  'ts': '2024-07-03T23:36:56.378000',\n",
       "  'username': 'd3pre5s',\n",
       "  'is_online': False},\n",
       " {'_id': '6685e0f2a0284e2affed1efd',\n",
       "  'ts': '2024-07-03T23:36:57.162000',\n",
       "  'username': 'saprykinzxc',\n",
       "  'is_online': False},\n",
       " {'_id': '6685e0f2a0284e2affed1efe',\n",
       "  'ts': '2024-07-03T23:36:57.903000',\n",
       "  'username': 'dbrkv',\n",
       "  'is_online': False},\n",
       " {'_id': '6685e0f2a0284e2affed1eff',\n",
       "  'ts': '2024-07-03T23:36:58.661000',\n",
       "  'username': 'somebodyoncetldme',\n",
       "  'is_online': False},\n",
       " {'_id': '6685e0f2a0284e2affed1f00',\n",
       "  'ts': '2024-07-03T23:36:59.388000',\n",
       "  'username': 'XoTTaB_FEFU',\n",
       "  'is_online': False},\n",
       " {'_id': '6685e0f2a0284e2affed1f01',\n",
       "  'ts': '2024-07-03T23:37:00.612000',\n",
       "  'username': 'ydmubhnqlt',\n",
       "  'is_online': False}]"
      ]
     },
     "execution_count": 14,
     "metadata": {},
     "output_type": "execute_result"
    }
   ],
   "execution_count": 14
  },
  {
   "metadata": {
    "ExecuteTime": {
     "end_time": "2024-07-04T00:17:09.841632Z",
     "start_time": "2024-07-04T00:17:09.826874Z"
    }
   },
   "cell_type": "code",
   "source": [
    "preprocessed = []\n",
    "\n",
    "for user in data:\n",
    "    user['ts'] = user['ts'].split('.')[0]\n",
    "    datetime_ts = datetime.datetime.strptime(user['ts'], '%Y-%m-%dT%H:%M:%S')\n",
    "\n",
    "    preprocessed.append({\n",
    "        'username': user['username'], \n",
    "        'ts': datetime_ts, \n",
    "        'is_online': user['is_online']\n",
    "    })\n",
    "    \n",
    "preprocessed = sorted(preprocessed, key=lambda x: x['ts']) "
   ],
   "id": "b6a06052b24887a4",
   "outputs": [],
   "execution_count": 44
  },
  {
   "metadata": {
    "ExecuteTime": {
     "end_time": "2024-07-04T00:17:12.403768Z",
     "start_time": "2024-07-04T00:17:12.396669Z"
    }
   },
   "cell_type": "code",
   "source": "preprocessed[0], preprocessed[-1]",
   "id": "6cc26a2a24954af2",
   "outputs": [
    {
     "data": {
      "text/plain": [
       "({'username': 'Kypban_M',\n",
       "  'ts': datetime.datetime(2024, 7, 3, 23, 36, 53),\n",
       "  'is_online': False},\n",
       " {'username': 'uu060k',\n",
       "  'ts': datetime.datetime(2024, 7, 4, 0, 10, 53),\n",
       "  'is_online': False})"
      ]
     },
     "execution_count": 45,
     "metadata": {},
     "output_type": "execute_result"
    }
   ],
   "execution_count": 45
  },
  {
   "metadata": {
    "ExecuteTime": {
     "end_time": "2024-07-04T00:16:30.508838Z",
     "start_time": "2024-07-04T00:16:30.505366Z"
    }
   },
   "cell_type": "code",
   "source": [
    "def sliding_window(preprocessed, time_period_seconds=40):\n",
    "    pass "
   ],
   "id": "b5773992c2b0b94f",
   "outputs": [
    {
     "data": {
      "text/plain": [
       "datetime.timedelta(seconds=2040)"
      ]
     },
     "execution_count": 43,
     "metadata": {},
     "output_type": "execute_result"
    }
   ],
   "execution_count": 43
  }
 ],
 "metadata": {
  "kernelspec": {
   "display_name": "Python 3",
   "language": "python",
   "name": "python3"
  },
  "language_info": {
   "codemirror_mode": {
    "name": "ipython",
    "version": 2
   },
   "file_extension": ".py",
   "mimetype": "text/x-python",
   "name": "python",
   "nbconvert_exporter": "python",
   "pygments_lexer": "ipython2",
   "version": "2.7.6"
  }
 },
 "nbformat": 4,
 "nbformat_minor": 5
}
